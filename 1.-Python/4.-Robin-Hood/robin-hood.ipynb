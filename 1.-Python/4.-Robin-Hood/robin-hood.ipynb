{
 "cells": [
  {
   "cell_type": "markdown",
   "metadata": {},
   "source": [
    "<img src=\"https://bit.ly/2VnXWr2\" width=\"100\" align=\"left\"/>"
   ]
  },
  {
   "cell_type": "markdown",
   "metadata": {},
   "source": [
    "# Robin Hood\n",
    "Robin Hood has entered a competition to win the archery contest in Sherwood. With his bow and arrows, he needs to shoot on a target and try to hit as close as possible to the center.\n",
    "\n",
    "![](images/arrows.jpg)\n",
    "\n",
    "## Context\n",
    "In this challenge, the landing position of arrows shot by archers in the competition will be represented using 2-dimensional coordinates. \n",
    "\n",
    "In the 2-dimensional space, a point can be defined by a pair of values that correspond to the horizontal coordinate (x) and the vertical coordinate (y). For example, in our case, an arrow that hits the center of the archery target will land in position (0, 0) on the coordinate axes. \n",
    "\n",
    "The space can be divided into 4 zones (quadrants): Q1, Q2, Q3, Q4. If a point is in Q1, both its x coordinate and y coordinate are positive. Any point with a null x or y coordinate is considered to not belong to any quadrant. \n",
    "\n",
    "If you want to know more about the cartesian coordinate system, you can check this [link](https://en.wikipedia.org/wiki/Cartesian_coordinate_system). \n",
    "\n",
    "## Tools\n",
    "You don't necessarily need to use all the tools. Maybe you opt to use some of them or completely different ones, they are given to help you shape the exercise. Programming exercises can be solved in many different ways.\n",
    "* Data structures: **lists, sets, tuples**\n",
    "* Conditional statements: **if-elif-else**\n",
    "* Loop: **while/for**\n",
    "* Minimum (optional sorting)\n",
    "\n",
    "## Tasks\n",
    "Robin Hood has hit the following points:"
   ]
  },
  {
   "cell_type": "code",
   "execution_count": 1,
   "metadata": {},
   "outputs": [
    {
     "name": "stdout",
     "output_type": "stream",
     "text": [
      "Robin Hood hit 22 points in total\n"
     ]
    }
   ],
   "source": [
    "total_points = [(4, 5), (-0, 2), (4, 7), (1, -3), (3, -2), (4, 5), (3, 2), (5, 7), (-5, 7), (2, 2), (-4, 5), (0, -2),\n",
    "          (-4, 7), (-1, 3), (-3, 2), (-4, -5), (-3, 2), (5, 7), (5, 7), (2, 2), (9, 9), (-8, -9)]\n",
    "\n",
    "number_total = len(total_points)\n",
    "\n",
    "print(\"Robin Hood hit\", number_total, \"points in total\")"
   ]
  },
  {
   "cell_type": "markdown",
   "metadata": {},
   "source": [
    "#### 1. Robin Hood is famous for hitting an arrow with another arrow. Find the coordinates of the points where an arrow hits another arrow."
   ]
  },
  {
   "cell_type": "code",
   "execution_count": 2,
   "metadata": {},
   "outputs": [
    {
     "name": "stdout",
     "output_type": "stream",
     "text": [
      "These are the 17 points in which Robin Hood hit an arrow: [(4, 5), (0, 2), (4, 7), (1, -3), (3, -2), (3, 2), (5, 7), (-5, 7), (2, 2), (-4, 5), (0, -2), (-4, 7), (-1, 3), (-3, 2), (-4, -5), (9, 9), (-8, -9)]\n",
      "\n",
      "\n",
      "While, these are the 5 points in which Robin Hood hit an arrow: [(4, 5), (-3, 2), (5, 7), (5, 7), (2, 2)]\n"
     ]
    }
   ],
   "source": [
    "arrow_points = []\n",
    "\n",
    "target_points = []\n",
    "\n",
    "for point in total_points:\n",
    "    if point not in target_points:\n",
    "        target_points.append(point)\n",
    "    else:\n",
    "        arrow_points.append(point)\n",
    "\n",
    "\n",
    "number_arrows = len(arrow_points)\n",
    "\n",
    "number_target = len(target_points)\n",
    "\n",
    "print(\"These are the\", number_target, \"points in which Robin Hood hit an arrow:\", target_points)\n",
    "\n",
    "print(\"\\n\")\n",
    "\n",
    "print(\"While, these are the\", number_arrows, \"points in which Robin Hood hit an arrow:\", arrow_points)"
   ]
  },
  {
   "cell_type": "markdown",
   "metadata": {},
   "source": [
    "#### 2. Calculate how many arrows have fallen in each quadrant. \n",
    "**Note**: the arrows that fall in the axis (x=0 or y=0) don't belong to any quadrant."
   ]
  },
  {
   "cell_type": "code",
   "execution_count": 3,
   "metadata": {},
   "outputs": [],
   "source": [
    "Q1 = 0\n",
    "\n",
    "Q2 = 0\n",
    "\n",
    "Q3 = 0\n",
    "\n",
    "Q4 = 0\n",
    "\n",
    "NQ = 0"
   ]
  },
  {
   "cell_type": "code",
   "execution_count": 4,
   "metadata": {},
   "outputs": [],
   "source": [
    "for point in total_points:\n",
    "    if point[0] > 0 and point[1] > 0:\n",
    "        Q1 += 1\n",
    "    elif point[0] > 0 and point[1] < 0:\n",
    "        Q2 += 1\n",
    "    elif point[0] < 0 and point[1] < 0:\n",
    "        Q3 += 1\n",
    "    elif point[0] < 0 and point[1] > 0:\n",
    "        Q4 += 1\n",
    "    else:\n",
    "        NQ += 1"
   ]
  },
  {
   "cell_type": "code",
   "execution_count": 5,
   "metadata": {},
   "outputs": [
    {
     "name": "stdout",
     "output_type": "stream",
     "text": [
      "Total arrows in 1st quadrant:10\n",
      "Total arrows in 2nd quadrant:2\n",
      "Total arrows in 3rd quadrant:2\n",
      "Total arrows in 4th quadrant:6\n",
      "Total arrows in NO quadrant:2\n"
     ]
    }
   ],
   "source": [
    "print(\"Total arrows in 1st quadrant:\" + str(Q1))\n",
    "\n",
    "print(\"Total arrows in 2nd quadrant:\" + str(Q2))\n",
    "\n",
    "print(\"Total arrows in 3rd quadrant:\" + str(Q3))\n",
    "\n",
    "print(\"Total arrows in 4th quadrant:\" + str(Q4))\n",
    "\n",
    "print(\"Total arrows in NO quadrant:\" + str(NQ))"
   ]
  },
  {
   "cell_type": "markdown",
   "metadata": {},
   "source": [
    "#### 3. Find the point closest to the center. Calculate its distance to the center. \n",
    "Take into account that there might be more than one point at the minimum distance to the center.\n",
    "\n",
    "**Hint**: Use the Euclidean distance. You can find more information about it [here](https://en.wikipedia.org/wiki/Euclidean_distance).  \n",
    "**Hint**: Defining a function that calculates the distance to the center can help."
   ]
  },
  {
   "cell_type": "code",
   "execution_count": 6,
   "metadata": {},
   "outputs": [
    {
     "name": "stdout",
     "output_type": "stream",
     "text": [
      "[(-8, -9), (-5, 7), (-4, -5), (-4, 5), (-4, 7), (-3, 2), (-3, 2), (-1, 3), (0, -2), (0, 2), (1, -3), (2, 2), (2, 2), (3, -2), (3, 2), (4, 5), (4, 5), (4, 7), (5, 7), (5, 7), (5, 7), (9, 9)]\n"
     ]
    }
   ],
   "source": [
    "total_points.sort()\n",
    "\n",
    "print(total_points)"
   ]
  },
  {
   "cell_type": "code",
   "execution_count": 7,
   "metadata": {},
   "outputs": [],
   "source": [
    "import math\n",
    "\n",
    "def distance(point):\n",
    "    #calculates distance of a point from the center of the target\n",
    "    center = (0,0)\n",
    "    euclid = math.sqrt((point[0] - center[0])**2 + (point[1] - center[1])**2)\n",
    "    return euclid    "
   ]
  },
  {
   "cell_type": "code",
   "execution_count": 8,
   "metadata": {},
   "outputs": [
    {
     "name": "stdout",
     "output_type": "stream",
     "text": [
      "[12.041594578792296, 8.602325267042627, 6.4031242374328485, 6.4031242374328485, 8.06225774829855, 3.605551275463989, 3.605551275463989, 3.1622776601683795, 2.0, 2.0, 3.1622776601683795, 2.8284271247461903, 2.8284271247461903, 3.605551275463989, 3.605551275463989, 6.4031242374328485, 6.4031242374328485, 8.06225774829855, 8.602325267042627, 8.602325267042627, 8.602325267042627, 12.727922061357855]\n",
      "\n",
      "\n",
      "The closest point to the center is/are: [(0, -2), (0, 2)] only 2.0\n"
     ]
    }
   ],
   "source": [
    "dist_center = []\n",
    "\n",
    "for point in total_points:\n",
    "    dist_center.append(distance(point))\n",
    "\n",
    "closest_dist = min(dist_center)\n",
    "\n",
    "print(dist_center)\n",
    "\n",
    "print(\"\\n\")\n",
    "\n",
    "closest_points_indexes = [i for i, dist in enumerate(dist_center) if dist == min(dist_center)]\n",
    "\n",
    "closest_points = []\n",
    "\n",
    "for i in closest_points_indexes:\n",
    "    closest_points.append(total_points[i])\n",
    "\n",
    "\n",
    "print(\"The closest point to the center is/are:\", closest_points, \"only\", closest_dist)"
   ]
  },
  {
   "cell_type": "markdown",
   "metadata": {},
   "source": [
    "#### 4. If the archery target has a radius of 9, calculate the number of arrows that won't hit the target. \n",
    "**Hint**: Use the function created in step 3. "
   ]
  },
  {
   "cell_type": "code",
   "execution_count": 9,
   "metadata": {},
   "outputs": [
    {
     "name": "stdout",
     "output_type": "stream",
     "text": [
      "2 arrows out of target for Robin Hood!\n"
     ]
    }
   ],
   "source": [
    "radius = 9\n",
    "\n",
    "out_of_target = 0\n",
    "\n",
    "for point in total_points:\n",
    "    if distance(point) > 9:\n",
    "        out_of_target += 1\n",
    "    else:\n",
    "        continue\n",
    "        \n",
    "print(out_of_target, \"arrows out of target for Robin Hood!\")"
   ]
  }
 ],
 "metadata": {
  "kernelspec": {
   "display_name": "Python 3",
   "language": "python",
   "name": "python3"
  },
  "language_info": {
   "codemirror_mode": {
    "name": "ipython",
    "version": 3
   },
   "file_extension": ".py",
   "mimetype": "text/x-python",
   "name": "python",
   "nbconvert_exporter": "python",
   "pygments_lexer": "ipython3",
   "version": "3.7.3"
  }
 },
 "nbformat": 4,
 "nbformat_minor": 2
}
