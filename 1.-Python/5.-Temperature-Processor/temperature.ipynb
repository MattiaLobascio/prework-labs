{
 "cells": [
  {
   "cell_type": "markdown",
   "metadata": {},
   "source": [
    "<img src=\"https://bit.ly/2VnXWr2\" width=\"100\" align=\"left\">"
   ]
  },
  {
   "cell_type": "markdown",
   "metadata": {},
   "source": [
    "# Temperature Sensor\n",
    "\n",
    "There is a temperature sensor in the processor of your company's server. The company wants to analyze the data provided by the sensor to decide if they should change the cooling system for a better one. As changing the cooling system is expensive and you are an excellent data analyst, you can't make a decision without basis.\n",
    "\n",
    "## Tools\n",
    "You don't necessarily need to use all the tools. Maybe you opt to use some of them or completely different ones, they are given to help you shape the exercise. Programming exercises can be solved in many different ways.\n",
    "1. Data structures: **lists**\n",
    "2. Loops: **list comprehension**\n",
    "3. Functions: **min, max, print, len**\n",
    "4. Conditional statements: **if-elif-else**\n",
    "\n",
    "## Tasks\n",
    "The temperatures measured throughout the 24 hours of a day are:"
   ]
  },
  {
   "cell_type": "code",
   "execution_count": 46,
   "metadata": {},
   "outputs": [
    {
     "name": "stdout",
     "output_type": "stream",
     "text": [
      "[33, 66, 65, 0, 59, 60, 62, 64, 70, 76, 80, 81, 80, 83, 90, 79, 61, 53, 50, 49, 53, 48, 45, 39]\n",
      "[0, 1, 2, 3, 4, 5, 6, 7, 8, 9, 10, 11, 12, 13, 14, 15, 16, 17, 18, 19, 20, 21, 22, 23, 24]\n"
     ]
    }
   ],
   "source": [
    "temperatures_C = [33, 66, 65, 0, 59, 60, 62, 64, 70, 76, 80, 81, 80, 83, 90, 79, 61, 53, 50, 49, 53, 48, 45, 39]\n",
    "\n",
    "temp_hours = [h for h in range(0,25)]\n",
    "\n",
    "print(temperatures_C)\n",
    "\n",
    "print(temp_hours)"
   ]
  },
  {
   "cell_type": "markdown",
   "metadata": {},
   "source": [
    "The first element of the list is the temperature at 12am, the second element is the temperature at 1am, and so on. \n",
    "\n",
    "The company has decided that if one of the following events occurs, then the cooling system needs to be replaced for a new one to avoid damaging the processor.\n",
    "* More than 4 temperatures are greater than or equal to 70ºC.\n",
    "* Any temperature is above 80ºC.\n",
    "* The average temperature exceeds 65ºC.\n",
    "\n",
    "Follow the steps so that you can make the decision.\n",
    "\n",
    "#### 1. Find the minimum temperature of the day and store it in a variable."
   ]
  },
  {
   "cell_type": "code",
   "execution_count": 47,
   "metadata": {},
   "outputs": [
    {
     "name": "stdout",
     "output_type": "stream",
     "text": [
      "(0, 3)\n"
     ]
    }
   ],
   "source": [
    "min_temp_day = (min(temperatures_C),temp_hours[temperatures_C.index(min(temperatures_C))])\n",
    "\n",
    "print(min_temp_day) #C° and corresponding hour of the day when registered"
   ]
  },
  {
   "cell_type": "markdown",
   "metadata": {},
   "source": [
    "#### 2. Find the maximum temperature of the day and store it in a variable."
   ]
  },
  {
   "cell_type": "code",
   "execution_count": 48,
   "metadata": {},
   "outputs": [
    {
     "name": "stdout",
     "output_type": "stream",
     "text": [
      "(90, 14)\n"
     ]
    }
   ],
   "source": [
    "max_temp_day = (max(temperatures_C),temp_hours[temperatures_C.index(max(temperatures_C))])\n",
    "\n",
    "print(max_temp_day) #C° and corresponding hour of the day when registered"
   ]
  },
  {
   "cell_type": "markdown",
   "metadata": {},
   "source": [
    "#### 3. Create a list with the temperatures that are greater than or equal to 70ºC. Store it in a variable."
   ]
  },
  {
   "cell_type": "code",
   "execution_count": 49,
   "metadata": {},
   "outputs": [
    {
     "name": "stdout",
     "output_type": "stream",
     "text": [
      "[70, 76, 80, 81, 80, 83, 90, 79]\n"
     ]
    }
   ],
   "source": [
    "temp_above70 = [t for t in temperatures_C if t >= 70]\n",
    "\n",
    "print(temp_above70)"
   ]
  },
  {
   "cell_type": "markdown",
   "metadata": {},
   "source": [
    "#### 4. Find the average temperature of the day and store it in a variable."
   ]
  },
  {
   "cell_type": "code",
   "execution_count": 50,
   "metadata": {},
   "outputs": [
    {
     "name": "stdout",
     "output_type": "stream",
     "text": [
      "60.25\n"
     ]
    }
   ],
   "source": [
    "avg_temp = sum(temperatures_C)/len(temperatures_C)\n",
    "\n",
    "print(avg_temp)"
   ]
  },
  {
   "cell_type": "markdown",
   "metadata": {},
   "source": [
    "#### 5. Imagine that there was a sensor failure at 3am and the data for that specific hour was not recorded. How would you estimate the missing value? Replace the current value of the list at 3am for an estimation. "
   ]
  },
  {
   "cell_type": "code",
   "execution_count": 51,
   "metadata": {},
   "outputs": [
    {
     "name": "stdout",
     "output_type": "stream",
     "text": [
      "62\n",
      "[33, 66, 65, 62, 59, 60, 62, 64, 70, 76, 80, 81, 80, 83, 90, 79, 61, 53, 50, 49, 53, 48, 45, 39]\n"
     ]
    }
   ],
   "source": [
    "# Assuming no extreme events occurred during that hour, with the average between the temp recorded in the previous\n",
    "# and following hour:\n",
    "\n",
    "est_temp = int((temperatures_C[temp_hours.index(2)] + temperatures_C[temp_hours.index(4)])/2)\n",
    "\n",
    "print(est_temp)\n",
    "\n",
    "temperatures_C[temp_hours.index(3)] = est_temp\n",
    "\n",
    "print(temperatures_C)"
   ]
  },
  {
   "cell_type": "code",
   "execution_count": 52,
   "metadata": {},
   "outputs": [
    {
     "name": "stdout",
     "output_type": "stream",
     "text": [
      "(33, 0)\n",
      "(90, 14)\n",
      "[70, 76, 80, 81, 80, 83, 90, 79]\n",
      "62.833333333333336\n"
     ]
    }
   ],
   "source": [
    "# All the decision variables must be recalculated:\n",
    "\n",
    "min_temp_day = (min(temperatures_C),temp_hours[temperatures_C.index(min(temperatures_C))])\n",
    "\n",
    "print(min_temp_day)\n",
    "\n",
    "\n",
    "max_temp_day = (max(temperatures_C),temp_hours[temperatures_C.index(max(temperatures_C))])\n",
    "\n",
    "print(max_temp_day)\n",
    "\n",
    "\n",
    "temp_above70 = [t for t in temperatures_C if t >= 70]\n",
    "\n",
    "print(temp_above70)\n",
    "\n",
    "\n",
    "avg_temp = sum(temperatures_C)/len(temperatures_C)\n",
    "\n",
    "print(avg_temp)"
   ]
  },
  {
   "cell_type": "markdown",
   "metadata": {},
   "source": [
    "#### 6. Bonus: the maintenance staff is from the United States and does not understand the international metric system. Help them by converting the temperatures from Celsius to Fahrenheit.\n",
    "To know more about temperature conversion check this [link](https://en.wikipedia.org/wiki/Conversion_of_units_of_temperature).\n",
    "\n",
    "**Formula**: \n",
    "\n",
    "$F = 1.8 * C + 32$"
   ]
  },
  {
   "cell_type": "code",
   "execution_count": 53,
   "metadata": {},
   "outputs": [
    {
     "name": "stdout",
     "output_type": "stream",
     "text": [
      "[91, 150, 149, 143, 138, 140, 143, 147, 158, 168, 176, 177, 176, 181, 194, 174, 141, 127, 122, 120, 127, 118, 113, 102]\n"
     ]
    }
   ],
   "source": [
    "converted_temp_F = [int((1.8 * C + 32)) for C in temperatures_C]\n",
    "\n",
    "print(converted_temp_F)"
   ]
  },
  {
   "cell_type": "markdown",
   "metadata": {},
   "source": [
    "#### 7. Make a decision!\n",
    "Now it's time to make a decision taking into account what you have seen until now. \n",
    "\n",
    "Remember that if one of the following events occurs, then the cooling system needs to be replaced for a new one to avoid damaging the processor.\n",
    "* More than 4 temperatures are greater than or equal to 70ºC.\n",
    "* Any temperature is above 80ºC.\n",
    "* The average temperature exceeds 65ºC.\n",
    "\n",
    "#### To make your decision, check if any of the three conditions above is met. You might need to use some of the variables you created in steps 1 to 6. Print a message to show if the cooling system needs to be changed or not."
   ]
  },
  {
   "cell_type": "code",
   "execution_count": 54,
   "metadata": {},
   "outputs": [
    {
     "name": "stdout",
     "output_type": "stream",
     "text": [
      "Huston, we have a cooling problem!\n",
      "N° of hours with temperatures above or equal to 70 °C: 8\n",
      "Maximum temperature recorded: 90 °C\n",
      "Average temperature recorded: 62.833333333333336 °C\n"
     ]
    }
   ],
   "source": [
    "if len(temp_above70) > 4 or max_temp_day[0] > 80 or avg_temp > 65:\n",
    "    print(\"Huston, we have a cooling problem!\")\n",
    "else:\n",
    "    print(\"Everything cool...ing!\")\n",
    "    \n",
    "print(\"N° of hours with temperatures above or equal to 70 °C:\", len(temp_above70))\n",
    "print(\"Maximum temperature recorded:\", max_temp_day[0],\"°C\")\n",
    "print(\"Average temperature recorded:\", avg_temp,\"°C\")"
   ]
  },
  {
   "cell_type": "markdown",
   "metadata": {},
   "source": [
    "## Bonus\n",
    "\n",
    "The company has decided that the decision you made is not valid. They want you to analyze the data again but this time, the conditions that need to be met in order to change the cooling system are different.\n",
    "\n",
    "This time, if one of the following events occurs, then the cooling system needs to be replaced:\n",
    "* The temperature is greater than 70ºC during more than 4 consecutive hours.\n",
    "* Any temperature is above 80ºC.\n",
    "* The average temperature exceeds 65ºC.\n",
    "\n",
    "Follow the steps so that you can make the decision.\n",
    "\n",
    "#### 1. Create a list with the hours where the temperature is greater than 70ºC. Store it in a variable."
   ]
  },
  {
   "cell_type": "code",
   "execution_count": 55,
   "metadata": {},
   "outputs": [
    {
     "name": "stdout",
     "output_type": "stream",
     "text": [
      "[9, 10, 11, 12, 13, 14, 15]\n",
      "[9, 10, 11, 12, 13, 14, 15]\n"
     ]
    }
   ],
   "source": [
    "index_temp_above70 = [i for i, t in enumerate(temperatures_C) if t > 70]\n",
    "\n",
    "print(index_temp_above70)\n",
    "\n",
    "hours_temp_above70 = []\n",
    "\n",
    "for i in index_temp_above70:\n",
    "    hours_temp_above70.append(temp_hours[i])\n",
    "    \n",
    "print(hours_temp_above70)\n",
    "\n",
    "# In this case they are the same because the first temperature is recorded at midnight = index 0 of the list"
   ]
  },
  {
   "cell_type": "markdown",
   "metadata": {},
   "source": [
    "#### 2. Check if the list you created in step 1 has more than 4 consecutive hours. "
   ]
  },
  {
   "cell_type": "code",
   "execution_count": 56,
   "metadata": {},
   "outputs": [
    {
     "name": "stdout",
     "output_type": "stream",
     "text": [
      "7 consecutive hours with registered temperature above 70°C\n"
     ]
    }
   ],
   "source": [
    "# Count starts at 1 because otherwiswe the first hour registered is lost\n",
    "cons_hours = 1\n",
    "\n",
    "# Avoid IndexError for list[i+1] \n",
    "for i in range(len(hours_temp_above70) - 1):\n",
    "    # Check if the next number is consecutive\n",
    "    if hours_temp_above70[i] + 1 == hours_temp_above70[i+1]:\n",
    "        cons_hours += 1\n",
    "    # If it is not restart counting\n",
    "    else:\n",
    "        cons_hours = 0\n",
    "\n",
    "print(cons_hours, \"consecutive hours with registered temperature above 70°C\")"
   ]
  },
  {
   "cell_type": "markdown",
   "metadata": {},
   "source": [
    "#### 3. Make the decision!\n",
    "To make your decision, check if any of the three conditions is met. Print a message to show if the cooling system needs to be changed or not."
   ]
  },
  {
   "cell_type": "code",
   "execution_count": 57,
   "metadata": {},
   "outputs": [
    {
     "name": "stdout",
     "output_type": "stream",
     "text": [
      "Huston, we have a cooling problem!\n",
      "N° of consecutive hours with temperatures above 70 °C: 7\n",
      "Maximum temperature recorded: 90 °C\n",
      "Average temperature recorded: 62.833333333333336 °C\n"
     ]
    }
   ],
   "source": [
    "if cons_hours > 4 or max_temp_day[0] > 80 or avg_temp > 65:\n",
    "    print(\"Huston, we have a cooling problem!\")\n",
    "else:\n",
    "    print(\"Everything cool...ing!\")\n",
    "    \n",
    "print(\"N° of consecutive hours with temperatures above 70 °C:\", cons_hours)\n",
    "print(\"Maximum temperature recorded:\", max_temp_day[0],\"°C\")\n",
    "print(\"Average temperature recorded:\", avg_temp,\"°C\")"
   ]
  },
  {
   "cell_type": "markdown",
   "metadata": {},
   "source": [
    "#### 4. Find the average value of the temperature lists (ºC and ºF). What is the relation between both average values?"
   ]
  },
  {
   "cell_type": "code",
   "execution_count": 89,
   "metadata": {},
   "outputs": [
    {
     "name": "stdout",
     "output_type": "stream",
     "text": [
      "Average temperature in C: 62.833333333333336\n",
      "Average temperature in F: 144.79166666666666\n",
      "Applying the conversion formula to the average temperature in C, results: 145.10000000000002 F\n",
      "Because the mean is a linear operator the conversion relationship still applies, with some approximation\n"
     ]
    }
   ],
   "source": [
    "avg_temp_F = sum(converted_temp_F)/len(converted_temp_F)\n",
    "\n",
    "print(\"Average temperature in C:\", avg_temp)\n",
    "\n",
    "print(\"Average temperature in F:\", avg_temp_F)\n",
    "\n",
    "check_1 = 1.8 * avg_temp + 32\n",
    "\n",
    "print(\"Applying the conversion formula to the average temperature in C, results:\", check, \"F\")\n",
    "\n",
    "print(\"Because the mean is a linear operator the conversion relationship still applies, with some approximation\")"
   ]
  },
  {
   "cell_type": "markdown",
   "metadata": {},
   "source": [
    "#### 5. Find the standard deviation of the temperature lists (ºC and ºF). What is the relation between both standard deviations?"
   ]
  },
  {
   "cell_type": "code",
   "execution_count": 90,
   "metadata": {},
   "outputs": [],
   "source": [
    "import statistics"
   ]
  },
  {
   "cell_type": "code",
   "execution_count": 93,
   "metadata": {},
   "outputs": [
    {
     "name": "stdout",
     "output_type": "stream",
     "text": [
      "Average standard deviation of temperature in C: 14.94821980579356\n",
      "Average standard deviation of temperature in F: 26.90075021851325\n",
      "Applying the conversion formula to the standard deviaiton of temperature in C, results: 58.90679565042841\n",
      "\n",
      "Because the standard deviation is a non-linear operator the conversion relationship doesn't apply anymore.\n",
      "\n",
      "Also, the standard deviation almost doubles when temperature converted to F\n",
      "\n"
     ]
    }
   ],
   "source": [
    "stdev_temp_C = statistics.stdev(temperatures_C)\n",
    "\n",
    "stdev_temp_F = statistics.stdev(converted_temp_F)\n",
    "\n",
    "print(\"Average standard deviation of temperature in C:\", stdev_temp_C)\n",
    "\n",
    "print(\"Average standard deviation of temperature in F:\", stdev_temp_F)\n",
    "\n",
    "check_2 = 1.8 * stdev_temp_C + 32\n",
    "\n",
    "print(\"Applying the conversion formula to the standard deviaiton of temperature in C, results:\", check_2)\n",
    "\n",
    "print(\"\"\"\n",
    "Because the standard deviation is a non-linear operator the conversion relationship doesn't apply anymore.\n",
    "\n",
    "Also, the standard deviation almost doubles when temperature converted to F\n",
    "\"\"\")"
   ]
  }
 ],
 "metadata": {
  "kernelspec": {
   "display_name": "Python 3",
   "language": "python",
   "name": "python3"
  },
  "language_info": {
   "codemirror_mode": {
    "name": "ipython",
    "version": 3
   },
   "file_extension": ".py",
   "mimetype": "text/x-python",
   "name": "python",
   "nbconvert_exporter": "python",
   "pygments_lexer": "ipython3",
   "version": "3.7.3"
  }
 },
 "nbformat": 4,
 "nbformat_minor": 2
}
