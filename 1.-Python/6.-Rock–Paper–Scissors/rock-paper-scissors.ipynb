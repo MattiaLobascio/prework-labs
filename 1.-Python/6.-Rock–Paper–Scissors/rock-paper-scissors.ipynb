{
 "cells": [
  {
   "cell_type": "markdown",
   "metadata": {},
   "source": [
    "<img src=\"https://bit.ly/2VnXWr2\" width=\"100\" align=\"left\">"
   ]
  },
  {
   "cell_type": "markdown",
   "metadata": {},
   "source": [
    "# Rock, Paper & Scissors\n",
    "\n",
    "Let's play the famous game against our computer. You can check the rules [here](https://en.wikipedia.org/wiki/Rock%E2%80%93paper%E2%80%93scissors). \n",
    "\n",
    "## Task\n",
    "Create a program that imitates the playability of the well known game of rock, paper, scissors. Follow the guidelines provided.\n",
    "\n",
    "## Tools\n",
    "1. Loop: **for/while**\n",
    "2. Functions: **input(), print()...**\n",
    "3. Conditional statements: **if, elif, else**\n",
    "4. Definition of functions. Modular programming\n",
    "5. Import modules\n",
    "\n",
    "**To solve this challenge, the use of functions is recommended.**\n",
    "\n",
    "#### 1. Import the choice function of the random module."
   ]
  },
  {
   "cell_type": "code",
   "execution_count": 1,
   "metadata": {},
   "outputs": [],
   "source": [
    "import random\n",
    "\n",
    "#Run this just once"
   ]
  },
  {
   "cell_type": "markdown",
   "metadata": {},
   "source": [
    "#### 2. Create a list that includes the 3 possible gesture options of the game: 'rock', 'paper' or 'scissors'. Store the list in a variable called `gestures`."
   ]
  },
  {
   "cell_type": "code",
   "execution_count": 14,
   "metadata": {},
   "outputs": [
    {
     "name": "stdout",
     "output_type": "stream",
     "text": [
      "Hello and welcome human! I am the champion of: ['rock', 'paper', 'scissors'] ... wanna challenge me?\n"
     ]
    }
   ],
   "source": [
    "gestures = [\"rock\", \"paper\", \"scissors\"]\n",
    "\n",
    "print(\"Hello and welcome human! I am the champion of:\",gestures, \"... wanna challenge me?\")"
   ]
  },
  {
   "cell_type": "markdown",
   "metadata": {},
   "source": [
    "#### 3. Create a variable called `n_rounds` to store the maximum number of rounds to play in a game. \n",
    "Remember that the number of rounds must be odd: 1, 3, 5, ..."
   ]
  },
  {
   "cell_type": "code",
   "execution_count": 25,
   "metadata": {},
   "outputs": [
    {
     "name": "stdout",
     "output_type": "stream",
     "text": [
      "\n",
      "Just a couple of warnings, human:\n",
      "\n",
      "1) I am the champion of this game...\n",
      "\n",
      "2) ... In the universe I mean.\n",
      "\n",
      "3) I let you choose how many rounds you want to play, BUT PAY ATTENTION:\n",
      " - If you will just press Enter without typing anything we cannot play, I don't really care cause I am the champion!\n",
      " - If you will enter some Text we cannot play, again I don't really care cause I am the champion!\n",
      " - If you will enter a non-INTEGER number, it is rounded to the closest lower INTEGER, I decide cause I am the champion!\n",
      "\n",
      "How many rounds do we want to play? Please type an ODD number: 3\n",
      "\n",
      "Alright, let's play 3 rounds!\n"
     ]
    }
   ],
   "source": [
    "print(\"\"\"\n",
    "Just a couple of warnings, human:\n",
    "\n",
    "1) I am the champion of this game...\n",
    "\n",
    "2) ... In the universe I mean.\n",
    "\n",
    "3) I let you choose how many rounds you want to play, BUT PAY ATTENTION:\n",
    " - If you will just press Enter without typing anything we cannot play, I don't really care cause I am the champion!\n",
    " - If you will enter some Text we cannot play, again I don't really care cause I am the champion!\n",
    " - If you will enter a non-INTEGER number, it is rounded to the closest lower INTEGER, I decide cause I am the champion!\n",
    "\"\"\")\n",
    "\n",
    "n_rounds = int(float(input(\"How many rounds do we want to play? Please type an ODD number: \")))\n",
    "    \n",
    "while (n_rounds % 2 != 0) == False:    \n",
    "    if n_rounds == 0:\n",
    "        print(\"\\nOk funny human, you want to play\",n_rounds,\" rounds...nice try! But I am the champion in charge, so YOU LOST! \\n\")\n",
    "        n_rounds = int(float(input(\"How many rounds do we want to play? Please type an ODD number: \")))\n",
    "    elif n_rounds % 2 == 0:\n",
    "        print(n_rounds,\"is even! Math basics missing here... \\n\")\n",
    "        n_rounds = int(float(input(\"How many rounds do we want to play? Please type an ODD number: \")))\n",
    "\n",
    "print(\"\\nAlright, let's play\",n_rounds,\"rounds!\")"
   ]
  },
  {
   "cell_type": "markdown",
   "metadata": {},
   "source": [
    "#### 4. Create a variable called `rounds_to_win` to store the number of rounds that a player must win to win the game.\n",
    "**Hint**: the value stored in `rounds_to_win` depends on the value of `n_rounds`. "
   ]
  },
  {
   "cell_type": "code",
   "execution_count": 26,
   "metadata": {},
   "outputs": [
    {
     "name": "stdout",
     "output_type": "stream",
     "text": [
      "\n",
      "The player who wins 2 rounds wins this game!\n"
     ]
    }
   ],
   "source": [
    "rounds_to_win = int((n_rounds + 1)/2)\n",
    "\n",
    "print(\"\\nThe player who wins\", rounds_to_win,\"rounds wins this game!\")"
   ]
  },
  {
   "cell_type": "markdown",
   "metadata": {},
   "source": [
    "#### 5. Create two variables to store the number of rounds that the computer and the player have won. Call these variables `cpu_score` and `player_score`."
   ]
  },
  {
   "cell_type": "code",
   "execution_count": 27,
   "metadata": {},
   "outputs": [],
   "source": [
    "cpu_score = 0\n",
    "\n",
    "player_score = 0"
   ]
  },
  {
   "cell_type": "markdown",
   "metadata": {},
   "source": [
    "#### 6. Define a function that randomly returns one of the 3 gesture options.\n",
    "You will use this function to simulate the gesture choice of the computer. "
   ]
  },
  {
   "cell_type": "code",
   "execution_count": 28,
   "metadata": {},
   "outputs": [],
   "source": [
    "def cpu_choice(gestures):\n",
    "    cpu_gesture = random.choice(gestures)\n",
    "    return cpu_gesture"
   ]
  },
  {
   "cell_type": "markdown",
   "metadata": {},
   "source": [
    "#### 7. Define a function that asks the player which is the gesture he or she wants to show: 'rock', 'paper' or 'scissors'.\n",
    "The player should only be allowed to choose one of the 3 gesture options. If the player's choice is not rock, paper or scissors, keep asking until it is."
   ]
  },
  {
   "cell_type": "code",
   "execution_count": 29,
   "metadata": {},
   "outputs": [],
   "source": [
    "def player_choice(gestures):\n",
    "    player_gesture = input(\"\\nChoose between rock, paper or scissors: \")\n",
    "    while player_gesture not in gestures:\n",
    "        print(\"\\nThis is not a gesture of the game... Read and type carefully. Or just stop messing with me, human!\")\n",
    "        player_gesture = input(\"\\nChoose between rock, paper or scissors: \")\n",
    "    return player_gesture"
   ]
  },
  {
   "cell_type": "markdown",
   "metadata": {},
   "source": [
    "#### 8. Define a function that checks who won a round. \n",
    "The function should return 0 if there is a tie, 1 if the computer wins and 2 if the player wins."
   ]
  },
  {
   "cell_type": "code",
   "execution_count": 30,
   "metadata": {},
   "outputs": [],
   "source": [
    "def check_choice(cpu_gesture,player_gesture):\n",
    "    result = 0\n",
    "    if cpu_gesture == player_gesture:\n",
    "        result = 0\n",
    "    elif (cpu_gesture == gestures[0] and player_gesture == gestures[2]) or (cpu_gesture == gestures[1] and player_gesture == gestures[0]) or (cpu_gesture == gestures[2] and player_gesture == gestures[1]):\n",
    "        result = 1\n",
    "    elif (cpu_gesture == gestures[0] and player_gesture == gestures[1]) or (cpu_gesture == gestures[1] and player_gesture == gestures[2]) or (cpu_gesture == gestures[2] and player_gesture == gestures[0]):\n",
    "        result = 2\n",
    "    return result"
   ]
  },
  {
   "cell_type": "markdown",
   "metadata": {},
   "source": [
    "#### 9. Define a function that prints the choice of the computer, the choice of the player and a message that announces who won the current round. \n"
   ]
  },
  {
   "cell_type": "code",
   "execution_count": 31,
   "metadata": {},
   "outputs": [],
   "source": [
    "def round_outcome(cpu_gesture,player_gesture,result):\n",
    "    print(\"\\nI chose:\", cpu_gesture)\n",
    "    print(\"\\nYOU chose:\", player_gesture)\n",
    "    if result == 0:\n",
    "        return print(\"\\nIt's a TIE! This is curious...\")\n",
    "    elif result == 1:\n",
    "        return print(\"\\nI WON huahauh! Too easy!\")\n",
    "    elif result == 2:\n",
    "        return print(\"\\nYOU WON... pure luck! C'mon, next round I will smash you!\")    "
   ]
  },
  {
   "cell_type": "markdown",
   "metadata": {},
   "source": [
    "#### 10. Now it's time to code the execution of the game using the functions and variables you defined above. \n",
    "\n",
    "First, create a loop structure that repeats while no player reaches the minimum score necessary to win and the number of rounds is less than the maximum number of rounds to play in a game.  \n",
    "\n",
    "Inside the loop, use the functions and variables above to create the execution of a round: ask for the player's choice, generate the random choice of the computer, show the round results, **update the scores**, etc. "
   ]
  },
  {
   "cell_type": "code",
   "execution_count": 32,
   "metadata": {},
   "outputs": [
    {
     "name": "stdout",
     "output_type": "stream",
     "text": [
      "I have chosen, now it's up to you! \n",
      "\n",
      "\n",
      "Choose between rock, paper or scissors: rock\n",
      "\n",
      "I chose: paper\n",
      "\n",
      "YOU chose: rock\n",
      "\n",
      "I WON huahauh! Too easy!\n",
      "\n",
      "YOUR score is: 0 \n",
      "\n",
      "MY score is: 1 \n",
      "\n",
      "Rounds left to play in this game: 2 \n",
      "\n",
      "I have chosen, now it's up to you! \n",
      "\n",
      "\n",
      "Choose between rock, paper or scissors: paper\n",
      "\n",
      "I chose: rock\n",
      "\n",
      "YOU chose: paper\n",
      "\n",
      "YOU WON... pure luck! C'mon, next round I will smash you!\n",
      "\n",
      "YOUR score is: 1 \n",
      "\n",
      "MY score is: 1 \n",
      "\n",
      "Rounds left to play in this game: 1 \n",
      "\n",
      "I have chosen, now it's up to you! \n",
      "\n",
      "\n",
      "Choose between rock, paper or scissors: paper\n",
      "\n",
      "I chose: rock\n",
      "\n",
      "YOU chose: paper\n",
      "\n",
      "YOU WON... pure luck! C'mon, next round I will smash you!\n",
      "\n",
      "YOUR score is: 2 \n",
      "\n",
      "MY score is: 1 \n",
      "\n",
      "Rounds left to play in this game: 0 \n",
      "\n"
     ]
    }
   ],
   "source": [
    "rounds_played = 0\n",
    "\n",
    "while rounds_played < n_rounds and cpu_score < rounds_to_win and player_score < rounds_to_win:\n",
    "    \n",
    "    print(\"I have chosen, now it's up to you! \\n\")\n",
    "    \n",
    "    cpu_gesture = cpu_choice(gestures)\n",
    "       \n",
    "    player_gesture = player_choice(gestures)\n",
    "    \n",
    "    result = check_choice(cpu_gesture,player_gesture)\n",
    "    \n",
    "    round_outcome(cpu_gesture,player_gesture,result)\n",
    "    \n",
    "    if result == 0:\n",
    "        rounds_played += 1\n",
    "    elif result == 1:\n",
    "        cpu_score += 1\n",
    "        rounds_played +=1\n",
    "    elif result == 2:\n",
    "        player_score += 1\n",
    "        rounds_played +=1\n",
    "    \n",
    "    print(\"\\nYOUR score is:\", player_score, \"\\n\")\n",
    "    print(\"MY score is:\", cpu_score, \"\\n\")\n",
    "    print(\"Rounds left to play in this game:\",(n_rounds - rounds_played), \"\\n\")"
   ]
  },
  {
   "cell_type": "markdown",
   "metadata": {},
   "source": [
    "#### 11. Print the winner of the game based on who won more rounds.\n",
    "Remember that the game might be tied. "
   ]
  },
  {
   "cell_type": "code",
   "execution_count": 33,
   "metadata": {},
   "outputs": [
    {
     "name": "stdout",
     "output_type": "stream",
     "text": [
      "\n",
      " YOU WON THE GAME, well...I am still the champion anyway...you need to beat me over 21 rounds to get the title\n"
     ]
    }
   ],
   "source": [
    "if cpu_score == rounds_to_win or (rounds_played == n_rounds and cpu_score > player_score):\n",
    "    print(\"\\n I WON THE GAME, loooooooser!\")\n",
    "elif player_score == rounds_to_win or (rounds_played == n_rounds and player_score > cpu_score):\n",
    "    print(\"\\n YOU WON THE GAME, well...I am still the champion anyway...you need to beat me over 21 rounds to get the title!\")\n",
    "else:\n",
    "    print(\"\\n WE TIED THE GAME...I can't believe it!\")"
   ]
  },
  {
   "cell_type": "markdown",
   "metadata": {},
   "source": [
    "# Bonus: Rock, Paper, Scissors, Lizard & Spock\n",
    "![](images/rpsls.jpg)\n",
    "\n",
    "In this challenge, you need to improve the previous game by adding two new options. To know more about the rules of the improved version of rock, paper, scissors, check this [link](http://www.samkass.com/theories/RPSSL.html). \n",
    "\n",
    "In addition, you will also need to improve how the game interacts with the player: the number of rounds to play, which must be an odd number, will be requested to the user until a valid number is entered. Define a new function to make that request.\n",
    "\n",
    "**Hint**: Try to reuse the code that you already coded in the previous challenge. If your code is efficient, this bonus will only consist of simple modifications to the original game."
   ]
  },
  {
   "cell_type": "code",
   "execution_count": null,
   "metadata": {},
   "outputs": [],
   "source": []
  }
 ],
 "metadata": {
  "kernelspec": {
   "display_name": "Python 3",
   "language": "python",
   "name": "python3"
  },
  "language_info": {
   "codemirror_mode": {
    "name": "ipython",
    "version": 3
   },
   "file_extension": ".py",
   "mimetype": "text/x-python",
   "name": "python",
   "nbconvert_exporter": "python",
   "pygments_lexer": "ipython3",
   "version": "3.7.3"
  }
 },
 "nbformat": 4,
 "nbformat_minor": 2
}
