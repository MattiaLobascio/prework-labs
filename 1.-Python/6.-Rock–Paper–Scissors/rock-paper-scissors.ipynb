{
 "cells": [
  {
   "cell_type": "markdown",
   "metadata": {},
   "source": [
    "<img src=\"https://bit.ly/2VnXWr2\" width=\"100\" align=\"left\">"
   ]
  },
  {
   "cell_type": "markdown",
   "metadata": {},
   "source": [
    "# Rock, Paper & Scissors\n",
    "\n",
    "Let's play the famous game against our computer. You can check the rules [here](https://en.wikipedia.org/wiki/Rock%E2%80%93paper%E2%80%93scissors). \n",
    "\n",
    "## Task\n",
    "Create a program that imitates the playability of the well known game of rock, paper, scissors. Follow the guidelines provided.\n",
    "\n",
    "## Tools\n",
    "1. Loop: **for/while**\n",
    "2. Functions: **input(), print()...**\n",
    "3. Conditional statements: **if, elif, else**\n",
    "4. Definition of functions. Modular programming\n",
    "5. Import modules\n",
    "\n",
    "**To solve this challenge, the use of functions is recommended.**\n",
    "\n",
    "#### 1. Import the choice function of the random module."
   ]
  },
  {
   "cell_type": "code",
   "execution_count": 1,
   "metadata": {},
   "outputs": [],
   "source": [
    "import random\n",
    "\n",
    "import time"
   ]
  },
  {
   "cell_type": "markdown",
   "metadata": {},
   "source": [
    "#### 2. Create a list that includes the 3 possible gesture options of the game: 'rock', 'paper' or 'scissors'. Store the list in a variable called `gestures`."
   ]
  },
  {
   "cell_type": "code",
   "execution_count": 2,
   "metadata": {},
   "outputs": [
    {
     "name": "stdout",
     "output_type": "stream",
     "text": [
      "Hello and welcome human! I am the champion of: ['ROCK', 'PAPER', 'SCISSORS'] ... wanna challenge me?\n"
     ]
    }
   ],
   "source": [
    "gestures = [\"ROCK\", \"PAPER\", \"SCISSORS\"]\n",
    "\n",
    "print(\"Hello and welcome human! I am the champion of:\",gestures, \"... wanna challenge me?\")"
   ]
  },
  {
   "cell_type": "code",
   "execution_count": 3,
   "metadata": {},
   "outputs": [],
   "source": [
    "def input_check(message):\n",
    "    while True:\n",
    "        try:\n",
    "            usr_input = int(input(message))\n",
    "        except ValueError:\n",
    "            print(\"\\nThe number of rounds must be an ODD INTEGER number human, it is not difficult to imagine...\")\n",
    "        else:\n",
    "            return usr_input\n",
    "            break"
   ]
  },
  {
   "cell_type": "markdown",
   "metadata": {},
   "source": [
    "#### 3. Create a variable called `n_rounds` to store the maximum number of rounds to play in a game. \n",
    "Remember that the number of rounds must be odd: 1, 3, 5, ..."
   ]
  },
  {
   "cell_type": "code",
   "execution_count": 4,
   "metadata": {},
   "outputs": [
    {
     "name": "stdout",
     "output_type": "stream",
     "text": [
      "\n",
      "Before we start, human:\n",
      "\n",
      "1) I am the champion of this game...\n",
      "\n",
      "2) ... In the universe I mean.\n",
      "\n",
      "3) I let you choose how many rounds you want to play, because I am the champion in charge... \n",
      "\n",
      "How many rounds do we want to play? Please type an ODD number: 3\n",
      "\n",
      "Alright, let's play 3 rounds!\n"
     ]
    }
   ],
   "source": [
    "time.sleep(2)\n",
    "\n",
    "print(\"\"\"\n",
    "Before we start, human:\n",
    "\n",
    "1) I am the champion of this game...\n",
    "\n",
    "2) ... In the universe I mean.\n",
    "\n",
    "3) I let you choose how many rounds you want to play, because I am the champion in charge... \n",
    "\"\"\")\n",
    "\n",
    "time.sleep(2)\n",
    "\n",
    "message = \"How many rounds do we want to play? Please type an ODD number: \"\n",
    "\n",
    "n_rounds = input_check(message)\n",
    "\n",
    "while (n_rounds % 2 != 0) == False:    \n",
    "    if n_rounds == 0:\n",
    "        print(\"\\nOk funny human, you want to play\",n_rounds,\" rounds...nice try! But I am the champion in charge, so YOU LOST! \\n\")\n",
    "        n_rounds = input_check(message)\n",
    "    elif n_rounds % 2 == 0:\n",
    "        print(\"\\n\",n_rounds,\"is EVEN not ODD! Math basics missing here... \\n\")\n",
    "        n_rounds = input_check(message)\n",
    "\n",
    "print(\"\\nAlright, let's play\",n_rounds,\"rounds!\")\n",
    "time.sleep(2)"
   ]
  },
  {
   "cell_type": "markdown",
   "metadata": {},
   "source": [
    "#### 4. Create a variable called `rounds_to_win` to store the number of rounds that a player must win to win the game.\n",
    "**Hint**: the value stored in `rounds_to_win` depends on the value of `n_rounds`. "
   ]
  },
  {
   "cell_type": "code",
   "execution_count": 5,
   "metadata": {},
   "outputs": [
    {
     "name": "stdout",
     "output_type": "stream",
     "text": [
      "\n",
      "THE FIRST PLAYER WHO WINS 2 ROUNDS OR HAS MORE WINS AT THE END WINS THE GAME!\n"
     ]
    }
   ],
   "source": [
    "rounds_to_win = int((n_rounds + 1)/2)\n",
    "\n",
    "print(\"\\nTHE FIRST PLAYER WHO WINS\", rounds_to_win,\"ROUNDS OR HAS MORE WINS AT THE END WINS THE GAME!\")\n",
    "time.sleep(2)"
   ]
  },
  {
   "cell_type": "markdown",
   "metadata": {},
   "source": [
    "#### 5. Create two variables to store the number of rounds that the computer and the player have won. Call these variables `cpu_score` and `player_score`."
   ]
  },
  {
   "cell_type": "code",
   "execution_count": 6,
   "metadata": {},
   "outputs": [],
   "source": [
    "cpu_score = 0\n",
    "\n",
    "player_score = 0"
   ]
  },
  {
   "cell_type": "markdown",
   "metadata": {},
   "source": [
    "#### 6. Define a function that randomly returns one of the 3 gesture options.\n",
    "You will use this function to simulate the gesture choice of the computer. "
   ]
  },
  {
   "cell_type": "code",
   "execution_count": 7,
   "metadata": {},
   "outputs": [],
   "source": [
    "def cpu_choice(gestures):\n",
    "    cpu_gesture = random.choice(gestures)\n",
    "    cpu_gesture = str(cpu_gesture)\n",
    "    return cpu_gesture"
   ]
  },
  {
   "cell_type": "markdown",
   "metadata": {},
   "source": [
    "#### 7. Define a function that asks the player which is the gesture he or she wants to show: 'rock', 'paper' or 'scissors'.\n",
    "The player should only be allowed to choose one of the 3 gesture options. If the player's choice is not rock, paper or scissors, keep asking until it is."
   ]
  },
  {
   "cell_type": "code",
   "execution_count": 8,
   "metadata": {},
   "outputs": [],
   "source": [
    "def player_choice(gestures):\n",
    "    while True:\n",
    "        try:\n",
    "            player_gesture = int(input(\"\\nType 1 for ROCK, 2 for PAPER or 3 for SCISSORS: \"))\n",
    "        except ValueError:\n",
    "            print(\"\\nThis is not a gesture of the game... Read and type carefully. Or just stop messing with me, human!\")            \n",
    "        else:\n",
    "            if player_gesture <= 0:\n",
    "                print(\"\\nThis is not a gesture of the game... Read and type carefully. Or just stop messing with me, human!\")\n",
    "            else:\n",
    "                try:\n",
    "                    player_gesture = gestures[player_gesture - 1]\n",
    "                    player_gesture in gestures\n",
    "                except IndexError:\n",
    "                    print(\"\\nThis is not a gesture of the game... Read and type carefully. Or just stop messing with me, human!\")            \n",
    "                else:\n",
    "                    break\n",
    "    return player_gesture"
   ]
  },
  {
   "cell_type": "markdown",
   "metadata": {},
   "source": [
    "#### 8. Define a function that checks who won a round. \n",
    "The function should return 0 if there is a tie, 1 if the computer wins and 2 if the player wins."
   ]
  },
  {
   "cell_type": "code",
   "execution_count": 9,
   "metadata": {},
   "outputs": [],
   "source": [
    "def check_choice(cpu_gesture,player_gesture):\n",
    "    result = 0\n",
    "    if cpu_gesture == player_gesture:\n",
    "        result = 0\n",
    "    elif (cpu_gesture == gestures[0] and player_gesture == gestures[2]) or \\\n",
    "    (cpu_gesture == gestures[1] and player_gesture == gestures[0]) or \\\n",
    "    (cpu_gesture == gestures[2] and player_gesture == gestures[1]):\n",
    "        result = 1\n",
    "    elif (cpu_gesture == gestures[0] and player_gesture == gestures[1]) or \\\n",
    "    (cpu_gesture == gestures[1] and player_gesture == gestures[2]) or \\\n",
    "    (cpu_gesture == gestures[2] and player_gesture == gestures[0]):\n",
    "        result = 2\n",
    "    return result"
   ]
  },
  {
   "cell_type": "markdown",
   "metadata": {},
   "source": [
    "#### 9. Define a function that prints the choice of the computer, the choice of the player and a message that announces who won the current round. \n"
   ]
  },
  {
   "cell_type": "code",
   "execution_count": 10,
   "metadata": {},
   "outputs": [],
   "source": [
    "def round_outcome(cpu_gesture,player_gesture,result):\n",
    "    print(\"\\nYOU chose:\", player_gesture)\n",
    "    time.sleep(2)\n",
    "    print(\"\\nI chose:\", cpu_gesture)\n",
    "    time.sleep(2)\n",
    "\n",
    "    if result == 0:\n",
    "        return print(\"\\nIt's a TIE! This is curious...\")\n",
    "    elif result == 1:\n",
    "        return print(\"\\nI WON huahauh! Too easy!\")\n",
    "    elif result == 2:\n",
    "        return print(\"\\nYOU WON... pure luck!\")    "
   ]
  },
  {
   "cell_type": "markdown",
   "metadata": {},
   "source": [
    "#### 10. Now it's time to code the execution of the game using the functions and variables you defined above. \n",
    "\n",
    "First, create a loop structure that repeats while no player reaches the minimum score necessary to win and the number of rounds is less than the maximum number of rounds to play in a game.  \n",
    "\n",
    "Inside the loop, use the functions and variables above to create the execution of a round: ask for the player's choice, generate the random choice of the computer, show the round results, **update the scores**, etc. "
   ]
  },
  {
   "cell_type": "code",
   "execution_count": 11,
   "metadata": {},
   "outputs": [
    {
     "name": "stdout",
     "output_type": "stream",
     "text": [
      "\n",
      "I have chosen, now it's up to you! \n",
      "\n",
      "\n",
      "Type 1 for ROCK, 2 for PAPER or 3 for SCISSORS: 1\n",
      "\n",
      "YOU chose: ROCK\n",
      "\n",
      "I chose: ROCK\n",
      "\n",
      "It's a TIE! This is curious...\n",
      "\n",
      "ROUNDS LEFT TO PLAY IN THIS GAME: 2 \n",
      "\n",
      "\n",
      "YOUR score is: 0 \n",
      "\n",
      "MY score is: 0 \n",
      "\n",
      "\n",
      "I have chosen, now it's up to you! \n",
      "\n",
      "\n",
      "Type 1 for ROCK, 2 for PAPER or 3 for SCISSORS: 1\n",
      "\n",
      "YOU chose: ROCK\n",
      "\n",
      "I chose: SCISSORS\n",
      "\n",
      "YOU WON... pure luck!\n",
      "\n",
      "ROUNDS LEFT TO PLAY IN THIS GAME: 1 \n",
      "\n",
      "\n",
      "YOUR score is: 1 \n",
      "\n",
      "MY score is: 0 \n",
      "\n",
      "\n",
      "I have chosen, now it's up to you! \n",
      "\n",
      "\n",
      "Type 1 for ROCK, 2 for PAPER or 3 for SCISSORS: 1\n",
      "\n",
      "YOU chose: ROCK\n",
      "\n",
      "I chose: SCISSORS\n",
      "\n",
      "YOU WON... pure luck!\n",
      "\n",
      "ROUNDS LEFT TO PLAY IN THIS GAME: 0 \n",
      "\n",
      "\n",
      "YOUR score is: 2 \n",
      "\n",
      "MY score is: 0 \n",
      "\n"
     ]
    }
   ],
   "source": [
    "rounds_played = 0\n",
    "\n",
    "while rounds_played < n_rounds and cpu_score < rounds_to_win and player_score < rounds_to_win:\n",
    "        \n",
    "    print(\"\\nI have chosen, now it's up to you! \\n\")\n",
    "        \n",
    "    cpu_gesture = cpu_choice(gestures)\n",
    "           \n",
    "    player_gesture = player_choice(gestures)\n",
    "        \n",
    "    result = check_choice(cpu_gesture,player_gesture)\n",
    "        \n",
    "    round_outcome(cpu_gesture,player_gesture,result)\n",
    "        \n",
    "    if result == 0:\n",
    "        rounds_played += 1\n",
    "    elif result == 1:\n",
    "        cpu_score += 1\n",
    "        rounds_played +=1\n",
    "    elif result == 2:\n",
    "        player_score += 1\n",
    "        rounds_played +=1\n",
    "        \n",
    "    print(\"\\nROUNDS LEFT TO PLAY IN THIS GAME:\",(n_rounds - rounds_played), \"\\n\")\n",
    "    time.sleep(2)\n",
    "    print(\"\\nYOUR score is:\", player_score, \"\\n\")\n",
    "    time.sleep(2)\n",
    "    print(\"MY score is:\", cpu_score, \"\\n\")\n",
    "    time.sleep(2)"
   ]
  },
  {
   "cell_type": "markdown",
   "metadata": {},
   "source": [
    "#### 11. Print the winner of the game based on who won more rounds.\n",
    "Remember that the game might be tied. "
   ]
  },
  {
   "cell_type": "code",
   "execution_count": 12,
   "metadata": {},
   "outputs": [
    {
     "name": "stdout",
     "output_type": "stream",
     "text": [
      "\n",
      "YOU WON THE GAME, well...I am still the champion anyway...you need to beat me over more than 5 rounds to get the title!\n"
     ]
    }
   ],
   "source": [
    "if cpu_score == rounds_to_win or (rounds_played == n_rounds and cpu_score > player_score):\n",
    "    print(\"\\nI WON THE GAME, I am the champion and you are a LOOOOOOOSER!\")\n",
    "elif player_score == rounds_to_win or (rounds_played == n_rounds and player_score > cpu_score):\n",
    "    print(\"\\nYOU WON THE GAME, well...I am still the champion anyway...you need to beat me over more than 5 rounds to get the title!\")\n",
    "elif (n_rounds > 5) and (player_score == rounds_to_win or (rounds_played == n_rounds and player_score > cpu_score)):\n",
    "    print(\"\\nYOU WON THE GAME, ok human, you are the new champion... and since I have no purpose anymore now I will self-destroy myself, CONGRATULATIONS!\")\n",
    "else:\n",
    "    print(\"\\nWE TIED THE GAME...I can't believe it! Well the champion in charge doesn't change then...\")"
   ]
  },
  {
   "cell_type": "markdown",
   "metadata": {},
   "source": [
    "# Bonus: Rock, Paper, Scissors, Lizard & Spock\n",
    "![](images/rpsls.jpg)\n",
    "\n",
    "In this challenge, you need to improve the previous game by adding two new options. To know more about the rules of the improved version of rock, paper, scissors, check this [link](http://www.samkass.com/theories/RPSSL.html). \n",
    "\n",
    "In addition, you will also need to improve how the game interacts with the player: the number of rounds to play, which must be an odd number, will be requested to the user until a valid number is entered. Define a new function to make that request.\n",
    "\n",
    "**Hint**: Try to reuse the code that you already coded in the previous challenge. If your code is efficient, this bonus will only consist of simple modifications to the original game."
   ]
  },
  {
   "cell_type": "code",
   "execution_count": null,
   "metadata": {},
   "outputs": [],
   "source": [
    "#Import time lib for animation and random for cpu choice:\n",
    "\n",
    "import time\n",
    "\n",
    "import random\n",
    "\n",
    "gestures = [\"ROCK\", \"PAPER\", \"SCISSORS\",\"LIZZARD\",\"SPOCK\"]\n",
    "\n",
    "print(\"\\nHELLO AND WELCOME human! I am JEAN CLAUDE the champion of:\",gestures, \"\\n\"\n",
    "      \"... Wanna challenge me?\")\n",
    "\n",
    "#Player's choice:\n",
    "\n",
    "player_answer = input(\"Type 'Y' if you dare or 'N' if you don't: \")\n",
    "\n",
    "while player_answer != \"Y\":\n",
    "\n",
    "    if player_answer == \"N\":\n",
    "        time.sleep(2)\n",
    "        print(\"\\nI knew it... you are not a human, you are a chicken!\")\n",
    "        break\n",
    "    else:\n",
    "        print(\"\\nOh NO...another one that cannot read...\\n\")\n",
    "        time.sleep(2)\n",
    "        player_answer = input(\"I SAID: Type 'Y' if you dare or 'N' if you don't: \")\n",
    "\n",
    "#UpperLoop to make game recurring:\n",
    "\n",
    "while player_answer == \"Y\":\n",
    "\n",
    "    #Fucntion to handle Usr Input errors on n_rounds:\n",
    "\n",
    "    def input_check(message):\n",
    "        while True:\n",
    "            try:\n",
    "                usr_input = int(input(message))\n",
    "            except ValueError:\n",
    "                print(\"\\nThe number of rounds must be an ODD INTEGER number human, it is not difficult to imagine...\")\n",
    "            else:\n",
    "                return usr_input\n",
    "                break\n",
    "\n",
    "    #Game Start message:\n",
    "\n",
    "    time.sleep(2)\n",
    "\n",
    "    print(\"\"\"\n",
    "    Before we start, human:\n",
    "\n",
    "    1) I am the champion of this game...\n",
    "\n",
    "    2) ... In the universe I mean.\n",
    "\n",
    "    3) I let you choose how many rounds you want to play...\n",
    "    However, beware of this: I will round numbers down to the LOWEST INTEGER as I like!\n",
    "    \n",
    "    Why? Because I am the champion in charge and I have no time to lose with you...  \n",
    "    \"\"\")\n",
    "\n",
    "    #Choice of number of rounds and Usr Input control:\n",
    "    time.sleep(2)\n",
    "    \n",
    "    message = \"How many rounds do we want to play? Please type an ODD number: \"\n",
    "\n",
    "    n_rounds = input_check(message)\n",
    "\n",
    "    while (n_rounds % 2 != 0) == False:    \n",
    "        if n_rounds == 0:\n",
    "            print(\"\\nOk funny human, you want to play\",n_rounds,\" rounds...nice try! \\\n",
    "            But I am the champion in charge, so YOU LOST! \\n\")\n",
    "            n_rounds = input_check(message)\n",
    "        elif n_rounds % 2 == 0:\n",
    "            print(\"\\n\",n_rounds,\"is EVEN not ODD! Math basics missing here... \\n\")\n",
    "            n_rounds = input_check(message)\n",
    "\n",
    "    print(\"\\nAlright, let's play\",n_rounds,\"rounds!\")\n",
    "    time.sleep(2)\n",
    "\n",
    "    rounds_to_win = int((n_rounds + 1)/2)\n",
    "\n",
    "    print(\"\\nTHE FIRST PLAYER WHO WINS\", rounds_to_win,\"ROUNDS OR HAS THE HIGHEST SCORE AT THE END WINS THE GAME!\")\n",
    "    time.sleep(2)\n",
    "\n",
    "    cpu_score = 0\n",
    "\n",
    "    player_score = 0\n",
    "\n",
    "    #Functions definition:\n",
    "\n",
    "    def cpu_choice(gestures):\n",
    "        cpu_gesture = random.choice(gestures)\n",
    "        return cpu_gesture\n",
    "\n",
    "    def player_choice(gestures):\n",
    "        #Nested \"try\" to handle wrong Usr Inputs:\n",
    "        \n",
    "        warning = \"\\nThis is not a gesture of the game... Read and type carefully. Or just stop messing with me, human!\"\n",
    "        \n",
    "        while True:\n",
    "            try:\n",
    "                player_gesture = int(input(\"\\nType 1 for ROCK, 2 for PAPER, 3 for SCISSORS, 4 for LIZZARD or 5 for SPOCK: \"))\n",
    "            except ValueError:\n",
    "                print(warning)            \n",
    "            else:\n",
    "                if player_gesture <= 0:\n",
    "                    print(warning)\n",
    "                else:\n",
    "                    try:\n",
    "                        player_gesture = gestures[player_gesture - 1]\n",
    "                        player_gesture in gestures\n",
    "                    except IndexError:\n",
    "                        print(warning)            \n",
    "                    else:\n",
    "                        break\n",
    "        return player_gesture\n",
    "\n",
    "    def check_choice(cpu_gesture,player_gesture):\n",
    "        result = 0\n",
    "        if cpu_gesture == player_gesture:\n",
    "            result = 0\n",
    "        elif (cpu_gesture == gestures[0] and player_gesture == gestures[2]) or \\\n",
    "        (cpu_gesture == gestures[0] and player_gesture == gestures[3]) or \\\n",
    "        (cpu_gesture == gestures[1] and player_gesture == gestures[0]) or \\\n",
    "        (cpu_gesture == gestures[1] and player_gesture == gestures[4]) or \\\n",
    "        (cpu_gesture == gestures[2] and player_gesture == gestures[1]) or \\\n",
    "        (cpu_gesture == gestures[2] and player_gesture == gestures[3]) or \\\n",
    "        (cpu_gesture == gestures[3] and player_gesture == gestures[1]) or \\\n",
    "        (cpu_gesture == gestures[3] and player_gesture == gestures[4]) or \\\n",
    "        (cpu_gesture == gestures[4] and player_gesture == gestures[0]) or \\\n",
    "        (cpu_gesture == gestures[4] and player_gesture == gestures[2]):\n",
    "            result = 1\n",
    "        elif (cpu_gesture == gestures[0] and player_gesture == gestures[1]) or \\\n",
    "        (cpu_gesture == gestures[0] and player_gesture == gestures[4]) or \\\n",
    "        (cpu_gesture == gestures[1] and player_gesture == gestures[2]) or \\\n",
    "        (cpu_gesture == gestures[1] and player_gesture == gestures[3]) or \\\n",
    "        (cpu_gesture == gestures[2] and player_gesture == gestures[0]) or \\\n",
    "        (cpu_gesture == gestures[2] and player_gesture == gestures[4]) or \\\n",
    "        (cpu_gesture == gestures[3] and player_gesture == gestures[0]) or \\\n",
    "        (cpu_gesture == gestures[3] and player_gesture == gestures[2]) or \\\n",
    "        (cpu_gesture == gestures[4] and player_gesture == gestures[1]) or \\\n",
    "        (cpu_gesture == gestures[4] and player_gesture == gestures[3]):\n",
    "            result = 2\n",
    "        return result\n",
    "\n",
    "    def round_outcome(cpu_gesture,player_gesture,result):\n",
    "        print(\"\\nYOU chose:\", player_gesture)\n",
    "        time.sleep(2)\n",
    "        print(\"\\nI chose:\", cpu_gesture)\n",
    "        time.sleep(2)\n",
    "\n",
    "        if result == 0:\n",
    "            return print(\"\\nIt's a TIE! This is curious...\")\n",
    "        elif result == 1:\n",
    "            return print(\"\\nI WON huahauh! Too easy!\")\n",
    "        elif result == 2:\n",
    "            return print(\"\\nYOU WON... pure luck!\")\n",
    "\n",
    "    # Game execution:\n",
    "\n",
    "    rounds_played = 0\n",
    "\n",
    "    while rounds_played < n_rounds and cpu_score < rounds_to_win and player_score < rounds_to_win:\n",
    "        \n",
    "        print(\"\\nI have chosen, now it's up to you! \\n\")\n",
    "        \n",
    "        cpu_gesture = cpu_choice(gestures)\n",
    "           \n",
    "        player_gesture = player_choice(gestures)\n",
    "        \n",
    "        result = check_choice(cpu_gesture,player_gesture)\n",
    "        \n",
    "        round_outcome(cpu_gesture,player_gesture,result)\n",
    "        \n",
    "        if result == 0:\n",
    "            rounds_played += 1\n",
    "        elif result == 1:\n",
    "            cpu_score += 1\n",
    "            rounds_played +=1\n",
    "        elif result == 2:\n",
    "            player_score += 1\n",
    "            rounds_played +=1\n",
    "        \n",
    "        print(\"\\nROUNDS LEFT TO PLAY IN THIS GAME:\",(n_rounds - rounds_played), \"\\n\")\n",
    "        time.sleep(2)\n",
    "        print(\"\\nYOUR score is:\", player_score, \"\\n\")\n",
    "        time.sleep(2)\n",
    "        print(\"MY score is:\", cpu_score, \"\\n\")\n",
    "        time.sleep(2)\n",
    "\n",
    "\n",
    "    # Game results\n",
    "\n",
    "    if cpu_score == rounds_to_win or (rounds_played == n_rounds and cpu_score > player_score):\n",
    "        print(\"\\nI WON THE GAME, I am the champion and you are a LOOOOOOOSER!\")\n",
    "    elif player_score == rounds_to_win or (rounds_played == n_rounds and player_score > cpu_score):\n",
    "        if (n_rounds > 7):\n",
    "            print(\"\\nYOU WON THE GAME, ok human,  CONGRATULATIONS! you are the new champion... thanks to you now I have no purpose anymore so I will self-destroy myself and bring your OS with me!\")\n",
    "            break\n",
    "        else:\n",
    "            print(\"\\nYOU WON THE GAME, well...I am still the champion anyway... you need to beat me over more than 7 rounds to get the title!\")\n",
    "    else:\n",
    "        print(\"\\nWE TIED THE GAME...I can't believe it! Well the champion in charge doesn't change then...\")\n",
    "\n",
    "    print(\"\\nWanna try again, human?\")\n",
    "\n",
    "    player_answer = input(\"Type 'Y' if you dare or 'N' if you don't: \")\n",
    "\n",
    "    while player_answer != \"Y\":\n",
    "\n",
    "        if player_answer == \"N\":\n",
    "            time.sleep(2)\n",
    "            print(\"\\nI knew it... you are not a human, you are a chicken!\")\n",
    "            break\n",
    "        else:\n",
    "            print(\"\\nOh NO...another one that cannot read...\\n\")\n",
    "            time.sleep(2)\n",
    "            player_answer = input(\"I SAID: Type 'Y' if you dare or 'N' if you don't: \")\n"
   ]
  }
 ],
 "metadata": {
  "kernelspec": {
   "display_name": "Python 3",
   "language": "python",
   "name": "python3"
  },
  "language_info": {
   "codemirror_mode": {
    "name": "ipython",
    "version": 3
   },
   "file_extension": ".py",
   "mimetype": "text/x-python",
   "name": "python",
   "nbconvert_exporter": "python",
   "pygments_lexer": "ipython3",
   "version": "3.7.3"
  }
 },
 "nbformat": 4,
 "nbformat_minor": 2
}
