{
 "cells": [
  {
   "cell_type": "markdown",
   "metadata": {},
   "source": [
    "<img src=\"https://bit.ly/2VnXWr2\" width=\"100\" align=\"left\">"
   ]
  },
  {
   "cell_type": "markdown",
   "metadata": {},
   "source": [
    "# The Snail and the Well\n",
    "\n",
    "A snail falls at the bottom of a 125 cm well. Each day the snail rises 30 cm. But at night, while sleeping, slides 20 cm because the walls are wet. How many days does it take for the snail to escape the well?\n",
    "\n",
    "**Hint**: The snail gets out of the well when it surpasses the 125cm of height.\n",
    "\n",
    "## Tools\n",
    "\n",
    "1. Loop: **while**\n",
    "2. Conditional statements: **if-else**\n",
    "3. Function: **print()**\n",
    "\n",
    "## Tasks\n",
    "\n",
    "#### 1. Assign the challenge data to variables with representative names: `well_height`, `daily_distance`, `nightly_distance` and `snail_position`."
   ]
  },
  {
   "cell_type": "code",
   "execution_count": 2,
   "metadata": {},
   "outputs": [],
   "source": [
    "well_height = 125\n",
    "\n",
    "snail_position = 0\n",
    "\n",
    "daily_distance = 30\n",
    "\n",
    "nightly_distance = 20"
   ]
  },
  {
   "cell_type": "markdown",
   "metadata": {},
   "source": [
    "#### 2. Create a variable `days` to keep count of the days that pass until the snail escapes the well. "
   ]
  },
  {
   "cell_type": "code",
   "execution_count": 3,
   "metadata": {},
   "outputs": [],
   "source": [
    "days = 1"
   ]
  },
  {
   "cell_type": "markdown",
   "metadata": {},
   "source": [
    "#### 3. Find the solution to the challenge using the variables defined above. "
   ]
  },
  {
   "cell_type": "code",
   "execution_count": 4,
   "metadata": {},
   "outputs": [
    {
     "name": "stdout",
     "output_type": "stream",
     "text": [
      "2 day(s), the snail has covered: 10 cm\n",
      "3 day(s), the snail has covered: 20 cm\n",
      "4 day(s), the snail has covered: 30 cm\n",
      "5 day(s), the snail has covered: 40 cm\n",
      "6 day(s), the snail has covered: 50 cm\n",
      "7 day(s), the snail has covered: 60 cm\n",
      "8 day(s), the snail has covered: 70 cm\n",
      "9 day(s), the snail has covered: 80 cm\n",
      "10 day(s), the snail has covered: 90 cm\n",
      "11 day(s), the snail has covered: 100 cm\n",
      "11 day(s), the snail has covered: 130 cm\n"
     ]
    }
   ],
   "source": [
    "while snail_position <= well_height:\n",
    "    if (snail_position + daily_distance) <= well_height:\n",
    "        snail_position += (daily_distance - nightly_distance)\n",
    "        days += 1\n",
    "        print(days, \"day(s), the snail has covered:\", snail_position, \"cm\")\n",
    "    else:\n",
    "        snail_position += daily_distance\n",
    "        print(days, \"day(s), the snail has covered:\", snail_position, \"cm\")"
   ]
  },
  {
   "cell_type": "markdown",
   "metadata": {},
   "source": [
    "#### 4. Print the solution."
   ]
  },
  {
   "cell_type": "code",
   "execution_count": 5,
   "metadata": {},
   "outputs": [
    {
     "name": "stdout",
     "output_type": "stream",
     "text": [
      "After 11  days the snail escapes, because it has covered a distance of 130 cm\n"
     ]
    }
   ],
   "source": [
    "print(\"After\", days, \" days the snail escapes, because it has covered a distance of\", snail_position, \"cm\")"
   ]
  },
  {
   "cell_type": "markdown",
   "metadata": {},
   "source": [
    "## Bonus\n",
    "The distance traveled by the snail each day is now defined by a list.\n",
    "```\n",
    "advance_cm = [30, 21, 33, 77, 44, 45, 23, 45, 12, 34, 55]\n",
    "```\n",
    "On the first day, the snail rises 30cm but during the night it slides 20cm. On the second day, the snail rises 21cm but during the night it slides 20cm, and so on. \n",
    "\n",
    "#### 1. How many days does it take for the snail to escape the well?\n",
    "Follow the same guidelines as in the previous challenge.\n",
    "\n",
    "**Hint**: Remember that the snail gets out of the well when it surpasses the 125cm of height."
   ]
  },
  {
   "cell_type": "code",
   "execution_count": 6,
   "metadata": {},
   "outputs": [],
   "source": [
    "advance_cm = [30, 21, 33, 77, 44, 45, 23, 45, 12, 34, 55]\n",
    "\n",
    "snail_position = 0\n",
    "\n",
    "days = 1"
   ]
  },
  {
   "cell_type": "code",
   "execution_count": 7,
   "metadata": {},
   "outputs": [],
   "source": [
    "while snail_position <= well_height:\n",
    "    for cm in advance_cm:\n",
    "        if (snail_position + cm) <= well_height:\n",
    "            snail_position += (cm - nightly_distance)\n",
    "            days += 1\n",
    "        elif snail_position + cm > well_height:\n",
    "            snail_position += cm \n",
    "            break"
   ]
  },
  {
   "cell_type": "code",
   "execution_count": 8,
   "metadata": {},
   "outputs": [
    {
     "name": "stdout",
     "output_type": "stream",
     "text": [
      "After 6  days the snail escapes, because it has covered a distance of 150 cm\n"
     ]
    }
   ],
   "source": [
    "print(\"After\", days, \" days the snail escapes, because it has covered a distance of\", snail_position, \"cm\")"
   ]
  },
  {
   "cell_type": "markdown",
   "metadata": {},
   "source": [
    "#### 2. What is its maximum displacement in one day? And its minimum? Calculate the displacement using only the travel distance of the days used to get out of the well. \n",
    "**Hint**: Remember that displacement means the total distance risen taking into account that the snail slides at night.  "
   ]
  },
  {
   "cell_type": "code",
   "execution_count": 9,
   "metadata": {},
   "outputs": [
    {
     "name": "stdout",
     "output_type": "stream",
     "text": [
      "The distances covered by the snail to escape in 6 days are: [30, 21, 33, 77, 44, 45]\n",
      "\n",
      "\n",
      "The real displacements of the snail are: [10, 1, 13, 57, 24, 45]\n",
      "\n",
      "\n",
      "The maximum displacement is: 57\n",
      "The minimum displacement is: 1\n"
     ]
    }
   ],
   "source": [
    "escape_advance_cm = advance_cm[:days]\n",
    "\n",
    "print(\"The distances covered by the snail to escape in\", days, \"days are:\", escape_advance_cm)\n",
    "\n",
    "displacement_cm = []\n",
    "\n",
    "for cm in escape_advance_cm:\n",
    "    if escape_advance_cm.index(cm) < (days-1):\n",
    "        displacement_cm.append(cm - nightly_distance)\n",
    "    else:\n",
    "        displacement_cm.append(cm)\n",
    "\n",
    "print(\"\\n\")\n",
    "\n",
    "print(\"The real displacements of the snail are:\", displacement_cm)\n",
    "\n",
    "max_displacement = max(displacement_cm)\n",
    "min_displacement = min(displacement_cm)\n",
    "\n",
    "print(\"\\n\")\n",
    "\n",
    "print(\"The maximum displacement is:\", max_displacement)\n",
    "print(\"The minimum displacement is:\", min_displacement)\n"
   ]
  },
  {
   "cell_type": "markdown",
   "metadata": {},
   "source": [
    "#### 3. What is its average progress? Take into account the snail slides at night."
   ]
  },
  {
   "cell_type": "code",
   "execution_count": 10,
   "metadata": {},
   "outputs": [
    {
     "name": "stdout",
     "output_type": "stream",
     "text": [
      "The average progress of the snail is: 25.0 cm per day\n"
     ]
    }
   ],
   "source": [
    "avg_progress = sum(displacement_cm)/len(displacement_cm)\n",
    "\n",
    "# alternatively can be: avg_progress = snail_position/days\n",
    "\n",
    "print(\"The average progress of the snail is:\", avg_progress, \"cm per day\")"
   ]
  },
  {
   "cell_type": "markdown",
   "metadata": {},
   "source": [
    "#### 4. What is the standard deviation of its displacement? Take into account the snail slides at night."
   ]
  },
  {
   "cell_type": "code",
   "execution_count": 12,
   "metadata": {},
   "outputs": [
    {
     "name": "stdout",
     "output_type": "stream",
     "text": [
      "The squared deviations from the mean of the displacements are: [225.0, 576.0, 144.0, 1024.0, 1.0, 400.0]\n",
      "The variance of the displacements is: 474.0\n",
      "The standard deviation of the displacements is: 21.77154105707724\n"
     ]
    }
   ],
   "source": [
    "sqdev_progress = []\n",
    "\n",
    "for cm in displacement_cm:\n",
    "    sqdev_progress.append((cm - avg_progress)**2)\n",
    "\n",
    "print(\"The squared deviations from the mean of the displacements are:\", sqdev_progress)    \n",
    "    \n",
    "var_progress = sum(sqdev_progress)/(len(sqdev_progress) - 1)\n",
    "\n",
    "print(\"The variance of the displacements is:\", var_progress)\n",
    "\n",
    "stdev_progress = (var_progress)**(1/2)\n",
    "\n",
    "print(\"The standard deviation of the displacements is:\", stdev_progress)"
   ]
  },
  {
   "cell_type": "code",
   "execution_count": null,
   "metadata": {},
   "outputs": [],
   "source": []
  }
 ],
 "metadata": {
  "kernelspec": {
   "display_name": "Python 3",
   "language": "python",
   "name": "python3"
  },
  "language_info": {
   "codemirror_mode": {
    "name": "ipython",
    "version": 3
   },
   "file_extension": ".py",
   "mimetype": "text/x-python",
   "name": "python",
   "nbconvert_exporter": "python",
   "pygments_lexer": "ipython3",
   "version": "3.7.3"
  }
 },
 "nbformat": 4,
 "nbformat_minor": 2
}
